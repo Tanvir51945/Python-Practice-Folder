{
 "cells": [
  {
   "cell_type": "code",
   "execution_count": 1,
   "id": "65a6d656",
   "metadata": {},
   "outputs": [],
   "source": [
    "#We can not change,add or delete an element from Tuples. But we can reassign a tuple"
   ]
  },
  {
   "cell_type": "code",
   "execution_count": 8,
   "id": "2f4cd995",
   "metadata": {},
   "outputs": [],
   "source": [
    "a=(\"Civil Engineering is Cool\",\"Really\", 65, [\"OWW\", \"MS\", 99])"
   ]
  },
  {
   "cell_type": "code",
   "execution_count": 7,
   "id": "70358321",
   "metadata": {},
   "outputs": [
    {
     "data": {
      "text/plain": [
       "tuple"
      ]
     },
     "execution_count": 7,
     "metadata": {},
     "output_type": "execute_result"
    }
   ],
   "source": [
    "type (a)"
   ]
  },
  {
   "cell_type": "code",
   "execution_count": 9,
   "id": "5856877b",
   "metadata": {},
   "outputs": [],
   "source": [
    "#Calling a value from tuple"
   ]
  },
  {
   "cell_type": "code",
   "execution_count": 10,
   "id": "057dfefe",
   "metadata": {},
   "outputs": [
    {
     "data": {
      "text/plain": [
       "'Civil Engineering is Cool'"
      ]
     },
     "execution_count": 10,
     "metadata": {},
     "output_type": "execute_result"
    }
   ],
   "source": [
    "a[0]"
   ]
  },
  {
   "cell_type": "code",
   "execution_count": 11,
   "id": "a03b87a7",
   "metadata": {},
   "outputs": [
    {
     "data": {
      "text/plain": [
       "'MS'"
      ]
     },
     "execution_count": 11,
     "metadata": {},
     "output_type": "execute_result"
    }
   ],
   "source": [
    "a[3][1]"
   ]
  },
  {
   "cell_type": "code",
   "execution_count": 12,
   "id": "d135f081",
   "metadata": {},
   "outputs": [
    {
     "data": {
      "text/plain": [
       "('Really', 65)"
      ]
     },
     "execution_count": 12,
     "metadata": {},
     "output_type": "execute_result"
    }
   ],
   "source": [
    "a[1:3]"
   ]
  },
  {
   "cell_type": "code",
   "execution_count": 20,
   "id": "f939ca0b",
   "metadata": {},
   "outputs": [],
   "source": [
    "#.count()\n",
    "#.index()\n",
    "#.index(value,start,end)"
   ]
  },
  {
   "cell_type": "code",
   "execution_count": 14,
   "id": "df5a9b01",
   "metadata": {},
   "outputs": [],
   "source": [
    "s=(\"Imtiaz\", \"Mushfiq\", \"Rafiul\", \"Imtiaz\", \"Tamanna\", \"Rabib\")"
   ]
  },
  {
   "cell_type": "code",
   "execution_count": 15,
   "id": "97048c37",
   "metadata": {},
   "outputs": [
    {
     "data": {
      "text/plain": [
       "2"
      ]
     },
     "execution_count": 15,
     "metadata": {},
     "output_type": "execute_result"
    }
   ],
   "source": [
    "s.count(\"Imtiaz\")"
   ]
  },
  {
   "cell_type": "code",
   "execution_count": 16,
   "id": "d496415f",
   "metadata": {},
   "outputs": [
    {
     "data": {
      "text/plain": [
       "2"
      ]
     },
     "execution_count": 16,
     "metadata": {},
     "output_type": "execute_result"
    }
   ],
   "source": [
    "s.index(\"Rafiul\")"
   ]
  },
  {
   "cell_type": "code",
   "execution_count": 19,
   "id": "402b3c82",
   "metadata": {},
   "outputs": [
    {
     "data": {
      "text/plain": [
       "3"
      ]
     },
     "execution_count": 19,
     "metadata": {},
     "output_type": "execute_result"
    }
   ],
   "source": [
    "s.index(\"Imtiaz\", 1)"
   ]
  },
  {
   "cell_type": "code",
   "execution_count": null,
   "id": "2901fe64",
   "metadata": {},
   "outputs": [],
   "source": []
  }
 ],
 "metadata": {
  "kernelspec": {
   "display_name": "Python 3 (ipykernel)",
   "language": "python",
   "name": "python3"
  },
  "language_info": {
   "codemirror_mode": {
    "name": "ipython",
    "version": 3
   },
   "file_extension": ".py",
   "mimetype": "text/x-python",
   "name": "python",
   "nbconvert_exporter": "python",
   "pygments_lexer": "ipython3",
   "version": "3.9.7"
  }
 },
 "nbformat": 4,
 "nbformat_minor": 5
}
