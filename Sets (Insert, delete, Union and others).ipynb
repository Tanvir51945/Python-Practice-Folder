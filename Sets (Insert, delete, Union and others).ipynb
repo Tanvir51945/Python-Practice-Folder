{
 "cells": [
  {
   "cell_type": "code",
   "execution_count": 1,
   "id": "415dc73f",
   "metadata": {},
   "outputs": [],
   "source": [
    "# No duplicate value in a set"
   ]
  },
  {
   "cell_type": "code",
   "execution_count": 2,
   "id": "9a086524",
   "metadata": {},
   "outputs": [],
   "source": [
    "#insert\n",
    "#.add()--will add single value randomly\n",
    "#.update()--will add multiple value--only string"
   ]
  },
  {
   "cell_type": "code",
   "execution_count": 3,
   "id": "3aeec82b",
   "metadata": {},
   "outputs": [],
   "source": [
    "a={\"a\",\"b\",\"akash\",93,56.23}"
   ]
  },
  {
   "cell_type": "code",
   "execution_count": 4,
   "id": "1652f7c5",
   "metadata": {},
   "outputs": [],
   "source": [
    "a.add(65)"
   ]
  },
  {
   "cell_type": "code",
   "execution_count": 5,
   "id": "86816fd8",
   "metadata": {},
   "outputs": [
    {
     "name": "stdout",
     "output_type": "stream",
     "text": [
      "{'a', 65, 93, 'b', 56.23, 'akash'}\n"
     ]
    }
   ],
   "source": [
    "print (a)"
   ]
  },
  {
   "cell_type": "code",
   "execution_count": 9,
   "id": "bb0527aa",
   "metadata": {},
   "outputs": [],
   "source": [
    "a.update(\"police\",\"91\")"
   ]
  },
  {
   "cell_type": "code",
   "execution_count": 7,
   "id": "b962832a",
   "metadata": {},
   "outputs": [
    {
     "name": "stdout",
     "output_type": "stream",
     "text": [
      "{'a', 65, '9', 'i', 'b', 'c', 93, 'o', 'l', '1', 56.23, 'p', 'akash', 'e'}\n"
     ]
    }
   ],
   "source": [
    "print (a)"
   ]
  },
  {
   "cell_type": "code",
   "execution_count": 11,
   "id": "8023f9f2",
   "metadata": {},
   "outputs": [],
   "source": [
    "#delete\n",
    "#.clear()-will clear the whole list\n",
    "#.remove()---will clear a particluar item\n",
    "#.pop()---will remove one value randomly"
   ]
  },
  {
   "cell_type": "code",
   "execution_count": 21,
   "id": "22fa0a65",
   "metadata": {},
   "outputs": [],
   "source": [
    "b={\"Jacob\",\"BCB\", 314, 48.5}"
   ]
  },
  {
   "cell_type": "code",
   "execution_count": 14,
   "id": "2f955353",
   "metadata": {},
   "outputs": [],
   "source": [
    "b.remove(48.5)"
   ]
  },
  {
   "cell_type": "code",
   "execution_count": 15,
   "id": "4160e358",
   "metadata": {},
   "outputs": [
    {
     "name": "stdout",
     "output_type": "stream",
     "text": [
      "{'Jacob', 'BCB', 314}\n"
     ]
    }
   ],
   "source": [
    "print(b)"
   ]
  },
  {
   "cell_type": "code",
   "execution_count": 17,
   "id": "75f5d2f0",
   "metadata": {},
   "outputs": [
    {
     "data": {
      "text/plain": [
       "'Jacob'"
      ]
     },
     "execution_count": 17,
     "metadata": {},
     "output_type": "execute_result"
    }
   ],
   "source": [
    "b.pop()"
   ]
  },
  {
   "cell_type": "code",
   "execution_count": 18,
   "id": "0cbe386a",
   "metadata": {},
   "outputs": [
    {
     "name": "stdout",
     "output_type": "stream",
     "text": [
      "{'BCB', 314}\n"
     ]
    }
   ],
   "source": [
    "print (b)"
   ]
  },
  {
   "cell_type": "code",
   "execution_count": 19,
   "id": "a982a890",
   "metadata": {},
   "outputs": [],
   "source": [
    "b.clear()"
   ]
  },
  {
   "cell_type": "code",
   "execution_count": 20,
   "id": "10992232",
   "metadata": {},
   "outputs": [
    {
     "name": "stdout",
     "output_type": "stream",
     "text": [
      "set()\n"
     ]
    }
   ],
   "source": [
    "print(b)"
   ]
  },
  {
   "cell_type": "code",
   "execution_count": 23,
   "id": "0aa6b465",
   "metadata": {},
   "outputs": [],
   "source": [
    "#Union\n",
    "#intersect"
   ]
  },
  {
   "cell_type": "code",
   "execution_count": 24,
   "id": "8df29e6b",
   "metadata": {},
   "outputs": [],
   "source": [
    "a={34,33,96,86,65,55,18}"
   ]
  },
  {
   "cell_type": "code",
   "execution_count": 34,
   "id": "522e6bd2",
   "metadata": {},
   "outputs": [],
   "source": [
    "b={\"Nafis\",\"Aymaan\",\"Akash\",\"Rifat\",96,86}"
   ]
  },
  {
   "cell_type": "code",
   "execution_count": 35,
   "id": "fd090d1e",
   "metadata": {},
   "outputs": [
    {
     "data": {
      "text/plain": [
       "{18, 33, 34, 55, 65, 86, 96, 'Akash', 'Aymaan', 'Nafis', 'Rifat'}"
      ]
     },
     "execution_count": 35,
     "metadata": {},
     "output_type": "execute_result"
    }
   ],
   "source": [
    "a.union(b)"
   ]
  },
  {
   "cell_type": "code",
   "execution_count": 36,
   "id": "550d7639",
   "metadata": {},
   "outputs": [],
   "source": [
    "c={\"Nafis\", 86,\"Saima\"}"
   ]
  },
  {
   "cell_type": "code",
   "execution_count": 37,
   "id": "65b2945e",
   "metadata": {},
   "outputs": [
    {
     "data": {
      "text/plain": [
       "{86, 'Nafis'}"
      ]
     },
     "execution_count": 37,
     "metadata": {},
     "output_type": "execute_result"
    }
   ],
   "source": [
    "b.intersection(c)"
   ]
  },
  {
   "cell_type": "code",
   "execution_count": 38,
   "id": "053f7b2f",
   "metadata": {},
   "outputs": [
    {
     "name": "stdout",
     "output_type": "stream",
     "text": [
      "{96, 'Rifat', 86, 'Akash', 'Aymaan', 'Nafis'}\n"
     ]
    }
   ],
   "source": [
    "print (b)"
   ]
  },
  {
   "cell_type": "code",
   "execution_count": null,
   "id": "fc92c81d",
   "metadata": {},
   "outputs": [],
   "source": []
  }
 ],
 "metadata": {
  "kernelspec": {
   "display_name": "Python 3 (ipykernel)",
   "language": "python",
   "name": "python3"
  },
  "language_info": {
   "codemirror_mode": {
    "name": "ipython",
    "version": 3
   },
   "file_extension": ".py",
   "mimetype": "text/x-python",
   "name": "python",
   "nbconvert_exporter": "python",
   "pygments_lexer": "ipython3",
   "version": "3.9.7"
  }
 },
 "nbformat": 4,
 "nbformat_minor": 5
}
