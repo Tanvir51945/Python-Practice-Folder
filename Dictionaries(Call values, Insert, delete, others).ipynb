{
 "cells": [
  {
   "cell_type": "code",
   "execution_count": 1,
   "id": "27fecdc4",
   "metadata": {},
   "outputs": [],
   "source": [
    "#Slicing not possible in dictonaries "
   ]
  },
  {
   "cell_type": "code",
   "execution_count": 6,
   "id": "c5e0d5f0",
   "metadata": {},
   "outputs": [],
   "source": [
    "a={\"Name\":\"Tanvir\", \"Age\":23, \"Food\":[\"Rice\",\"Chicken\", \"Bread\"]}"
   ]
  },
  {
   "cell_type": "code",
   "execution_count": 7,
   "id": "e06ab793",
   "metadata": {},
   "outputs": [],
   "source": [
    "#Call Values "
   ]
  },
  {
   "cell_type": "code",
   "execution_count": 8,
   "id": "56621828",
   "metadata": {},
   "outputs": [
    {
     "data": {
      "text/plain": [
       "23"
      ]
     },
     "execution_count": 8,
     "metadata": {},
     "output_type": "execute_result"
    }
   ],
   "source": [
    "a[\"Age\"]"
   ]
  },
  {
   "cell_type": "code",
   "execution_count": 9,
   "id": "0ec5a782",
   "metadata": {},
   "outputs": [
    {
     "data": {
      "text/plain": [
       "'Bread'"
      ]
     },
     "execution_count": 9,
     "metadata": {},
     "output_type": "execute_result"
    }
   ],
   "source": [
    "a[\"Food\"][2]"
   ]
  },
  {
   "cell_type": "code",
   "execution_count": 10,
   "id": "17fa855b",
   "metadata": {},
   "outputs": [],
   "source": [
    "#No duplicate keys are allowed, Keys must be immutable"
   ]
  },
  {
   "cell_type": "code",
   "execution_count": 11,
   "id": "205b9883",
   "metadata": {},
   "outputs": [],
   "source": [
    "#Insert\n",
    "#Using Indexing--replace\n",
    "#update()--add to dictonary "
   ]
  },
  {
   "cell_type": "code",
   "execution_count": 12,
   "id": "ada3af6b",
   "metadata": {},
   "outputs": [],
   "source": [
    "a={\"Name\":\"Tanvir\", \"Age\":23, \"Food\":[\"Rice\",\"Chicken\", \"Bread\"]}"
   ]
  },
  {
   "cell_type": "code",
   "execution_count": 14,
   "id": "ab40e000",
   "metadata": {},
   "outputs": [],
   "source": [
    "a[\"Name\"]=\"Amio\""
   ]
  },
  {
   "cell_type": "code",
   "execution_count": 15,
   "id": "4c5a0712",
   "metadata": {},
   "outputs": [
    {
     "name": "stdout",
     "output_type": "stream",
     "text": [
      "{'Name': 'Amio', 'Age': 23, 'Food': ['Rice', 'Chicken', 'Bread']}\n"
     ]
    }
   ],
   "source": [
    "print(a)"
   ]
  },
  {
   "cell_type": "code",
   "execution_count": 17,
   "id": "e014e10a",
   "metadata": {},
   "outputs": [],
   "source": [
    "b={\"Nationality\":\"Bangladesh\"}"
   ]
  },
  {
   "cell_type": "code",
   "execution_count": 18,
   "id": "b9e73830",
   "metadata": {},
   "outputs": [],
   "source": [
    "a.update(b)"
   ]
  },
  {
   "cell_type": "code",
   "execution_count": 19,
   "id": "4dd95c44",
   "metadata": {},
   "outputs": [
    {
     "name": "stdout",
     "output_type": "stream",
     "text": [
      "{'Name': 'Amio', 'Age': 23, 'Food': ['Rice', 'Chicken', 'Bread'], 'Nationality': 'Bangladesh'}\n"
     ]
    }
   ],
   "source": [
    "print (a)"
   ]
  },
  {
   "cell_type": "code",
   "execution_count": 28,
   "id": "e83ddc8d",
   "metadata": {},
   "outputs": [],
   "source": [
    "#Delete \n",
    "#.clear()---will clear whole dictonary\n",
    "#.popitem()---will clear last item\n",
    "#.pop()--- will clear a particular key"
   ]
  },
  {
   "cell_type": "code",
   "execution_count": 21,
   "id": "472c5acf",
   "metadata": {},
   "outputs": [],
   "source": [
    "b.clear()"
   ]
  },
  {
   "cell_type": "code",
   "execution_count": 22,
   "id": "3b4b2f1c",
   "metadata": {},
   "outputs": [
    {
     "name": "stdout",
     "output_type": "stream",
     "text": [
      "{}\n"
     ]
    }
   ],
   "source": [
    "print (b)"
   ]
  },
  {
   "cell_type": "code",
   "execution_count": 24,
   "id": "c151be30",
   "metadata": {},
   "outputs": [
    {
     "data": {
      "text/plain": [
       "('Nationality', 'Bangladesh')"
      ]
     },
     "execution_count": 24,
     "metadata": {},
     "output_type": "execute_result"
    }
   ],
   "source": [
    "a.popitem() #will clear the last item "
   ]
  },
  {
   "cell_type": "code",
   "execution_count": 25,
   "id": "18947538",
   "metadata": {},
   "outputs": [
    {
     "name": "stdout",
     "output_type": "stream",
     "text": [
      "{'Name': 'Amio', 'Age': 23, 'Food': ['Rice', 'Chicken', 'Bread']}\n"
     ]
    }
   ],
   "source": [
    "print (a)"
   ]
  },
  {
   "cell_type": "code",
   "execution_count": 26,
   "id": "6d0bab26",
   "metadata": {},
   "outputs": [
    {
     "data": {
      "text/plain": [
       "23"
      ]
     },
     "execution_count": 26,
     "metadata": {},
     "output_type": "execute_result"
    }
   ],
   "source": [
    "a.pop(\"Age\")"
   ]
  },
  {
   "cell_type": "code",
   "execution_count": 27,
   "id": "df43d1d9",
   "metadata": {},
   "outputs": [
    {
     "name": "stdout",
     "output_type": "stream",
     "text": [
      "{'Name': 'Amio', 'Food': ['Rice', 'Chicken', 'Bread']}\n"
     ]
    }
   ],
   "source": [
    "print (a)"
   ]
  },
  {
   "cell_type": "code",
   "execution_count": 29,
   "id": "07d0aa73",
   "metadata": {},
   "outputs": [],
   "source": [
    "#.keys()--will return to all keys\n",
    "#.values()--will return to all values\n",
    "#.items ()--will return all the key value pair in a tuple "
   ]
  },
  {
   "cell_type": "code",
   "execution_count": 30,
   "id": "1f8a8b50",
   "metadata": {},
   "outputs": [
    {
     "data": {
      "text/plain": [
       "dict_keys(['Name', 'Food'])"
      ]
     },
     "execution_count": 30,
     "metadata": {},
     "output_type": "execute_result"
    }
   ],
   "source": [
    "a.keys()"
   ]
  },
  {
   "cell_type": "code",
   "execution_count": 31,
   "id": "998f945f",
   "metadata": {},
   "outputs": [
    {
     "data": {
      "text/plain": [
       "dict_values(['Amio', ['Rice', 'Chicken', 'Bread']])"
      ]
     },
     "execution_count": 31,
     "metadata": {},
     "output_type": "execute_result"
    }
   ],
   "source": [
    "a.values()"
   ]
  },
  {
   "cell_type": "code",
   "execution_count": 32,
   "id": "7d47e9e2",
   "metadata": {},
   "outputs": [
    {
     "data": {
      "text/plain": [
       "dict_items([('Name', 'Amio'), ('Food', ['Rice', 'Chicken', 'Bread'])])"
      ]
     },
     "execution_count": 32,
     "metadata": {},
     "output_type": "execute_result"
    }
   ],
   "source": [
    "a.items()"
   ]
  },
  {
   "cell_type": "code",
   "execution_count": null,
   "id": "99eb741e",
   "metadata": {},
   "outputs": [],
   "source": []
  }
 ],
 "metadata": {
  "kernelspec": {
   "display_name": "Python 3 (ipykernel)",
   "language": "python",
   "name": "python3"
  },
  "language_info": {
   "codemirror_mode": {
    "name": "ipython",
    "version": 3
   },
   "file_extension": ".py",
   "mimetype": "text/x-python",
   "name": "python",
   "nbconvert_exporter": "python",
   "pygments_lexer": "ipython3",
   "version": "3.9.7"
  }
 },
 "nbformat": 4,
 "nbformat_minor": 5
}
