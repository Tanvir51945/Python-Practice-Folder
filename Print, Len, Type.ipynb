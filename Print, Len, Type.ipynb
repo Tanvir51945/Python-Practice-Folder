{
 "cells": [
  {
   "cell_type": "code",
   "execution_count": 1,
   "id": "f088bc3b",
   "metadata": {},
   "outputs": [],
   "source": [
    "a= 90.98"
   ]
  },
  {
   "cell_type": "code",
   "execution_count": 4,
   "id": "278ef9e9",
   "metadata": {},
   "outputs": [
    {
     "data": {
      "text/plain": [
       "float"
      ]
     },
     "execution_count": 4,
     "metadata": {},
     "output_type": "execute_result"
    }
   ],
   "source": [
    "type(a)"
   ]
  },
  {
   "cell_type": "code",
   "execution_count": 9,
   "id": "36629938",
   "metadata": {},
   "outputs": [],
   "source": [
    "b={\"a\":\"string\", \"b\":78, \"c\":98.9}"
   ]
  },
  {
   "cell_type": "code",
   "execution_count": 10,
   "id": "ecdf0d85",
   "metadata": {},
   "outputs": [
    {
     "data": {
      "text/plain": [
       "dict"
      ]
     },
     "execution_count": 10,
     "metadata": {},
     "output_type": "execute_result"
    }
   ],
   "source": [
    "type(b)"
   ]
  },
  {
   "cell_type": "code",
   "execution_count": 11,
   "id": "94f1f59a",
   "metadata": {},
   "outputs": [],
   "source": [
    "c=(\"string\", 45, 19.03)"
   ]
  },
  {
   "cell_type": "code",
   "execution_count": 12,
   "id": "3297a1fa",
   "metadata": {},
   "outputs": [
    {
     "data": {
      "text/plain": [
       "tuple"
      ]
     },
     "execution_count": 12,
     "metadata": {},
     "output_type": "execute_result"
    }
   ],
   "source": [
    "type(c)"
   ]
  },
  {
   "cell_type": "code",
   "execution_count": 13,
   "id": "aaee4e7c",
   "metadata": {},
   "outputs": [],
   "source": [
    "d=\"HYSAWA\""
   ]
  },
  {
   "cell_type": "code",
   "execution_count": 14,
   "id": "0d3721f4",
   "metadata": {},
   "outputs": [
    {
     "data": {
      "text/plain": [
       "6"
      ]
     },
     "execution_count": 14,
     "metadata": {},
     "output_type": "execute_result"
    }
   ],
   "source": [
    "len(d)"
   ]
  },
  {
   "cell_type": "code",
   "execution_count": 15,
   "id": "c41d0c5a",
   "metadata": {},
   "outputs": [],
   "source": [
    "e=78//5**2"
   ]
  },
  {
   "cell_type": "code",
   "execution_count": 16,
   "id": "637eda2c",
   "metadata": {},
   "outputs": [
    {
     "name": "stdout",
     "output_type": "stream",
     "text": [
      "3\n"
     ]
    }
   ],
   "source": [
    "print (e)"
   ]
  },
  {
   "cell_type": "code",
   "execution_count": null,
   "id": "1e6e5a27",
   "metadata": {},
   "outputs": [],
   "source": []
  }
 ],
 "metadata": {
  "kernelspec": {
   "display_name": "Python 3 (ipykernel)",
   "language": "python",
   "name": "python3"
  },
  "language_info": {
   "codemirror_mode": {
    "name": "ipython",
    "version": 3
   },
   "file_extension": ".py",
   "mimetype": "text/x-python",
   "name": "python",
   "nbconvert_exporter": "python",
   "pygments_lexer": "ipython3",
   "version": "3.9.7"
  }
 },
 "nbformat": 4,
 "nbformat_minor": 5
}
