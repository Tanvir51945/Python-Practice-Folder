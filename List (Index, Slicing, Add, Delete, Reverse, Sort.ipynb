{
 "cells": [
  {
   "cell_type": "code",
   "execution_count": 1,
   "id": "d7281f57",
   "metadata": {},
   "outputs": [],
   "source": [
    "#indexing"
   ]
  },
  {
   "cell_type": "code",
   "execution_count": 49,
   "id": "9f447168",
   "metadata": {},
   "outputs": [],
   "source": [
    "a=[\"cat\",\"litte\",93,98.33,[\"my\",\"kittu\", 90.1]]"
   ]
  },
  {
   "cell_type": "code",
   "execution_count": 8,
   "id": "747fd255",
   "metadata": {},
   "outputs": [
    {
     "data": {
      "text/plain": [
       "93"
      ]
     },
     "execution_count": 8,
     "metadata": {},
     "output_type": "execute_result"
    }
   ],
   "source": [
    "a[2]"
   ]
  },
  {
   "cell_type": "code",
   "execution_count": 9,
   "id": "91427f7f",
   "metadata": {},
   "outputs": [
    {
     "data": {
      "text/plain": [
       "['my', 'kittu', 90.1]"
      ]
     },
     "execution_count": 9,
     "metadata": {},
     "output_type": "execute_result"
    }
   ],
   "source": [
    "a[4]"
   ]
  },
  {
   "cell_type": "code",
   "execution_count": 10,
   "id": "17b0bcf5",
   "metadata": {},
   "outputs": [
    {
     "data": {
      "text/plain": [
       "'kittu'"
      ]
     },
     "execution_count": 10,
     "metadata": {},
     "output_type": "execute_result"
    }
   ],
   "source": [
    "a[4][1]"
   ]
  },
  {
   "cell_type": "code",
   "execution_count": 14,
   "id": "e8d88b44",
   "metadata": {},
   "outputs": [
    {
     "data": {
      "text/plain": [
       "'my'"
      ]
     },
     "execution_count": 14,
     "metadata": {},
     "output_type": "execute_result"
    }
   ],
   "source": [
    "a[-1][0]"
   ]
  },
  {
   "cell_type": "code",
   "execution_count": 15,
   "id": "d0fe3d0d",
   "metadata": {},
   "outputs": [],
   "source": [
    "#Slicing"
   ]
  },
  {
   "cell_type": "code",
   "execution_count": null,
   "id": "05a18b4d",
   "metadata": {},
   "outputs": [],
   "source": [
    "a=[\"cat\",\"litte\",93,98.33,[\"my\",\"kittu\", 90.1]]"
   ]
  },
  {
   "cell_type": "code",
   "execution_count": 16,
   "id": "1148faa6",
   "metadata": {},
   "outputs": [
    {
     "data": {
      "text/plain": [
       "[93, 98.33, ['my', 'kittu', 90.1]]"
      ]
     },
     "execution_count": 16,
     "metadata": {},
     "output_type": "execute_result"
    }
   ],
   "source": [
    "a[2:]"
   ]
  },
  {
   "cell_type": "code",
   "execution_count": 18,
   "id": "764d44f4",
   "metadata": {},
   "outputs": [],
   "source": [
    "c=a[2::2]"
   ]
  },
  {
   "cell_type": "code",
   "execution_count": 19,
   "id": "bd202372",
   "metadata": {},
   "outputs": [
    {
     "name": "stdout",
     "output_type": "stream",
     "text": [
      "[93, ['my', 'kittu', 90.1]]\n"
     ]
    }
   ],
   "source": [
    "print (c)"
   ]
  },
  {
   "cell_type": "code",
   "execution_count": 20,
   "id": "43732e3e",
   "metadata": {},
   "outputs": [],
   "source": [
    "#Insert Values in a List\n",
    "# Using indexing----- to replace\n",
    "#.append()-------to add last\n",
    "#.insert()-------to add in the middle"
   ]
  },
  {
   "cell_type": "code",
   "execution_count": 21,
   "id": "728f1720",
   "metadata": {},
   "outputs": [],
   "source": [
    "d=[0,1,2,3,4,5,6]"
   ]
  },
  {
   "cell_type": "code",
   "execution_count": 22,
   "id": "aead871e",
   "metadata": {},
   "outputs": [],
   "source": [
    "d[1]=2"
   ]
  },
  {
   "cell_type": "code",
   "execution_count": 23,
   "id": "052beff0",
   "metadata": {},
   "outputs": [
    {
     "name": "stdout",
     "output_type": "stream",
     "text": [
      "[0, 2, 2, 3, 4, 5, 6]\n"
     ]
    }
   ],
   "source": [
    "print (d)"
   ]
  },
  {
   "cell_type": "code",
   "execution_count": 24,
   "id": "470d8c5e",
   "metadata": {},
   "outputs": [],
   "source": [
    "d.append(7)"
   ]
  },
  {
   "cell_type": "code",
   "execution_count": 25,
   "id": "e4f272b5",
   "metadata": {},
   "outputs": [
    {
     "name": "stdout",
     "output_type": "stream",
     "text": [
      "[0, 2, 2, 3, 4, 5, 6, 7]\n"
     ]
    }
   ],
   "source": [
    "print(d)"
   ]
  },
  {
   "cell_type": "code",
   "execution_count": 28,
   "id": "d9071b64",
   "metadata": {},
   "outputs": [],
   "source": [
    "d.insert(2,1)"
   ]
  },
  {
   "cell_type": "code",
   "execution_count": 29,
   "id": "76d3ca84",
   "metadata": {},
   "outputs": [
    {
     "name": "stdout",
     "output_type": "stream",
     "text": [
      "[0, 2, 1, 2, 3, 4, 5, 6, 7]\n"
     ]
    }
   ],
   "source": [
    "print (d)"
   ]
  },
  {
   "cell_type": "code",
   "execution_count": 33,
   "id": "9537c505",
   "metadata": {},
   "outputs": [],
   "source": [
    "d.insert(-1,8)"
   ]
  },
  {
   "cell_type": "code",
   "execution_count": 34,
   "id": "cc3067fb",
   "metadata": {},
   "outputs": [
    {
     "name": "stdout",
     "output_type": "stream",
     "text": [
      "[0, 2, 1, 2, 3, 4, 5, 6, 8, 7]\n"
     ]
    }
   ],
   "source": [
    "print (d)"
   ]
  },
  {
   "cell_type": "code",
   "execution_count": 35,
   "id": "4d181000",
   "metadata": {},
   "outputs": [],
   "source": [
    "#reverse"
   ]
  },
  {
   "cell_type": "code",
   "execution_count": 37,
   "id": "fc21c385",
   "metadata": {},
   "outputs": [],
   "source": [
    "d.reverse()"
   ]
  },
  {
   "cell_type": "code",
   "execution_count": 38,
   "id": "8cb45ddb",
   "metadata": {},
   "outputs": [
    {
     "name": "stdout",
     "output_type": "stream",
     "text": [
      "[7, 8, 6, 5, 4, 3, 2, 1, 2, 0]\n"
     ]
    }
   ],
   "source": [
    "print(d)"
   ]
  },
  {
   "cell_type": "code",
   "execution_count": 39,
   "id": "4eda898a",
   "metadata": {},
   "outputs": [],
   "source": [
    "#sort"
   ]
  },
  {
   "cell_type": "code",
   "execution_count": 40,
   "id": "e338af5b",
   "metadata": {},
   "outputs": [],
   "source": [
    "d.sort()"
   ]
  },
  {
   "cell_type": "code",
   "execution_count": 42,
   "id": "36497d52",
   "metadata": {},
   "outputs": [
    {
     "name": "stdout",
     "output_type": "stream",
     "text": [
      "[0, 1, 2, 2, 3, 4, 5, 6, 7, 8]\n"
     ]
    }
   ],
   "source": [
    "print(d)"
   ]
  },
  {
   "cell_type": "code",
   "execution_count": 43,
   "id": "cd083a8a",
   "metadata": {},
   "outputs": [],
   "source": [
    "#descending sort"
   ]
  },
  {
   "cell_type": "code",
   "execution_count": 45,
   "id": "18c24165",
   "metadata": {},
   "outputs": [],
   "source": [
    "e=[223,342,11,2323,33]"
   ]
  },
  {
   "cell_type": "code",
   "execution_count": 47,
   "id": "4779a7af",
   "metadata": {},
   "outputs": [],
   "source": [
    "e.sort(reverse=True)"
   ]
  },
  {
   "cell_type": "code",
   "execution_count": 48,
   "id": "58500e70",
   "metadata": {},
   "outputs": [
    {
     "name": "stdout",
     "output_type": "stream",
     "text": [
      "[2323, 342, 223, 33, 11]\n"
     ]
    }
   ],
   "source": [
    "print(e)"
   ]
  },
  {
   "cell_type": "code",
   "execution_count": 50,
   "id": "fab08bf3",
   "metadata": {},
   "outputs": [],
   "source": [
    "#delete\n",
    "#.clear()--will clear the whole list\n",
    "#.pop()---will delete the last item\n",
    "#.pop(__)--will delete a particular item\n",
    "#.remove(_)-wil remove a particular value"
   ]
  },
  {
   "cell_type": "code",
   "execution_count": 51,
   "id": "e4724dc1",
   "metadata": {},
   "outputs": [],
   "source": [
    "g=[\"India\", \"Amar Sonar Bangla\", 6, 5, 6,4,3,6,5,1,6.023,.023]"
   ]
  },
  {
   "cell_type": "code",
   "execution_count": 55,
   "id": "634bb621",
   "metadata": {},
   "outputs": [],
   "source": [
    "g.remove(6)"
   ]
  },
  {
   "cell_type": "code",
   "execution_count": 53,
   "id": "27e08a3e",
   "metadata": {},
   "outputs": [
    {
     "name": "stdout",
     "output_type": "stream",
     "text": [
      "['India', 'Amar Sonar Bangla', 5, 6, 4, 3, 6, 5, 1, 6.023, 0.023]\n"
     ]
    }
   ],
   "source": [
    "print (g)"
   ]
  },
  {
   "cell_type": "code",
   "execution_count": 56,
   "id": "f1d66a4b",
   "metadata": {},
   "outputs": [
    {
     "data": {
      "text/plain": [
       "0.023"
      ]
     },
     "execution_count": 56,
     "metadata": {},
     "output_type": "execute_result"
    }
   ],
   "source": [
    "g.pop()"
   ]
  },
  {
   "cell_type": "code",
   "execution_count": 57,
   "id": "cddda852",
   "metadata": {},
   "outputs": [
    {
     "name": "stdout",
     "output_type": "stream",
     "text": [
      "['India', 'Amar Sonar Bangla', 5, 4, 3, 6, 5, 1, 6.023]\n"
     ]
    }
   ],
   "source": [
    "print (g)"
   ]
  },
  {
   "cell_type": "code",
   "execution_count": 58,
   "id": "fee7c53e",
   "metadata": {},
   "outputs": [
    {
     "data": {
      "text/plain": [
       "4"
      ]
     },
     "execution_count": 58,
     "metadata": {},
     "output_type": "execute_result"
    }
   ],
   "source": [
    "g.pop(3)"
   ]
  },
  {
   "cell_type": "code",
   "execution_count": 59,
   "id": "be4fe59c",
   "metadata": {},
   "outputs": [
    {
     "name": "stdout",
     "output_type": "stream",
     "text": [
      "['India', 'Amar Sonar Bangla', 5, 3, 6, 5, 1, 6.023]\n"
     ]
    }
   ],
   "source": [
    "print (g)"
   ]
  },
  {
   "cell_type": "code",
   "execution_count": 60,
   "id": "f8f31d1c",
   "metadata": {},
   "outputs": [],
   "source": [
    "g.clear()"
   ]
  },
  {
   "cell_type": "code",
   "execution_count": 61,
   "id": "30326079",
   "metadata": {},
   "outputs": [
    {
     "name": "stdout",
     "output_type": "stream",
     "text": [
      "[]\n"
     ]
    }
   ],
   "source": [
    "print (g)"
   ]
  },
  {
   "cell_type": "code",
   "execution_count": null,
   "id": "884fe410",
   "metadata": {},
   "outputs": [],
   "source": []
  }
 ],
 "metadata": {
  "kernelspec": {
   "display_name": "Python 3 (ipykernel)",
   "language": "python",
   "name": "python3"
  },
  "language_info": {
   "codemirror_mode": {
    "name": "ipython",
    "version": 3
   },
   "file_extension": ".py",
   "mimetype": "text/x-python",
   "name": "python",
   "nbconvert_exporter": "python",
   "pygments_lexer": "ipython3",
   "version": "3.9.7"
  }
 },
 "nbformat": 4,
 "nbformat_minor": 5
}
