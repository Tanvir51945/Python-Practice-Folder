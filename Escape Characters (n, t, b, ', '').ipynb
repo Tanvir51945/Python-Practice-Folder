{
 "cells": [
  {
   "cell_type": "code",
   "execution_count": 7,
   "id": "280cc42b",
   "metadata": {},
   "outputs": [],
   "source": [
    "a= \"This is Tanvir\\n He is just 23\\t\""
   ]
  },
  {
   "cell_type": "code",
   "execution_count": 8,
   "id": "287081c9",
   "metadata": {},
   "outputs": [
    {
     "name": "stdout",
     "output_type": "stream",
     "text": [
      "This is Tanvir\n",
      " He is just 23\t\n"
     ]
    }
   ],
   "source": [
    "print (a)"
   ]
  },
  {
   "cell_type": "code",
   "execution_count": 9,
   "id": "03ffc77b",
   "metadata": {},
   "outputs": [],
   "source": [
    "b= \"Hi! How are youu\\b\""
   ]
  },
  {
   "cell_type": "code",
   "execution_count": 10,
   "id": "ef51d579",
   "metadata": {},
   "outputs": [
    {
     "name": "stdout",
     "output_type": "stream",
     "text": [
      "Hi! How are youu\b\n"
     ]
    }
   ],
   "source": [
    "print(b)"
   ]
  },
  {
   "cell_type": "code",
   "execution_count": 12,
   "id": "4a8fd34a",
   "metadata": {},
   "outputs": [],
   "source": [
    "c=\"My name is \\\"Amio\\\"\""
   ]
  },
  {
   "cell_type": "code",
   "execution_count": 13,
   "id": "a071cb11",
   "metadata": {},
   "outputs": [
    {
     "name": "stdout",
     "output_type": "stream",
     "text": [
      "My name is \"Amio\"\n"
     ]
    }
   ],
   "source": [
    "print (c)"
   ]
  },
  {
   "cell_type": "code",
   "execution_count": 15,
   "id": "c2d8869d",
   "metadata": {},
   "outputs": [],
   "source": [
    "d= \"June\\\\july\\\\Aug\""
   ]
  },
  {
   "cell_type": "code",
   "execution_count": 16,
   "id": "b2e23572",
   "metadata": {},
   "outputs": [
    {
     "name": "stdout",
     "output_type": "stream",
     "text": [
      "June\\july\\Aug\n"
     ]
    }
   ],
   "source": [
    "print(d)"
   ]
  },
  {
   "cell_type": "code",
   "execution_count": null,
   "id": "1ec83820",
   "metadata": {},
   "outputs": [],
   "source": []
  }
 ],
 "metadata": {
  "kernelspec": {
   "display_name": "Python 3 (ipykernel)",
   "language": "python",
   "name": "python3"
  },
  "language_info": {
   "codemirror_mode": {
    "name": "ipython",
    "version": 3
   },
   "file_extension": ".py",
   "mimetype": "text/x-python",
   "name": "python",
   "nbconvert_exporter": "python",
   "pygments_lexer": "ipython3",
   "version": "3.9.7"
  }
 },
 "nbformat": 4,
 "nbformat_minor": 5
}
