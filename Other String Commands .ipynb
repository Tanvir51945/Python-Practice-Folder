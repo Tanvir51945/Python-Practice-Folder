{
 "cells": [
  {
   "cell_type": "code",
   "execution_count": 1,
   "id": "9e989f11",
   "metadata": {},
   "outputs": [],
   "source": [
    "C= \"MAN\""
   ]
  },
  {
   "cell_type": "code",
   "execution_count": 2,
   "id": "39c2ce90",
   "metadata": {},
   "outputs": [],
   "source": [
    "D= C+\"HATTAN\""
   ]
  },
  {
   "cell_type": "code",
   "execution_count": 3,
   "id": "f06f3777",
   "metadata": {},
   "outputs": [
    {
     "name": "stdout",
     "output_type": "stream",
     "text": [
      "MANHATTAN\n"
     ]
    }
   ],
   "source": [
    "print(D)"
   ]
  },
  {
   "cell_type": "code",
   "execution_count": 5,
   "id": "3f9966e1",
   "metadata": {},
   "outputs": [],
   "source": [
    "E=\"0\""
   ]
  },
  {
   "cell_type": "code",
   "execution_count": 6,
   "id": "2e55bca1",
   "metadata": {},
   "outputs": [
    {
     "name": "stdout",
     "output_type": "stream",
     "text": [
      "b0000000000\n"
     ]
    }
   ],
   "source": [
    "print (\"b\"+E*10)"
   ]
  },
  {
   "cell_type": "code",
   "execution_count": 9,
   "id": "256763ef",
   "metadata": {},
   "outputs": [],
   "source": [
    "F= \"This is all what you want\""
   ]
  },
  {
   "cell_type": "code",
   "execution_count": 10,
   "id": "b3c44457",
   "metadata": {},
   "outputs": [
    {
     "data": {
      "text/plain": [
       "['This', 'is', 'all', 'what', 'you', 'want']"
      ]
     },
     "execution_count": 10,
     "metadata": {},
     "output_type": "execute_result"
    }
   ],
   "source": [
    "F.split()"
   ]
  },
  {
   "cell_type": "code",
   "execution_count": 11,
   "id": "72ced57d",
   "metadata": {},
   "outputs": [
    {
     "data": {
      "text/plain": [
       "['This is ', 'll wh', 't you w', 'nt']"
      ]
     },
     "execution_count": 11,
     "metadata": {},
     "output_type": "execute_result"
    }
   ],
   "source": [
    "F.split(\"a\")"
   ]
  },
  {
   "cell_type": "code",
   "execution_count": 12,
   "id": "326604e6",
   "metadata": {},
   "outputs": [],
   "source": [
    "G=\"AMIO\""
   ]
  },
  {
   "cell_type": "code",
   "execution_count": 13,
   "id": "ee670759",
   "metadata": {},
   "outputs": [
    {
     "data": {
      "text/plain": [
       "'AMIO'"
      ]
     },
     "execution_count": 13,
     "metadata": {},
     "output_type": "execute_result"
    }
   ],
   "source": [
    "G.upper()"
   ]
  },
  {
   "cell_type": "code",
   "execution_count": null,
   "id": "342b801b",
   "metadata": {},
   "outputs": [],
   "source": []
  }
 ],
 "metadata": {
  "kernelspec": {
   "display_name": "Python 3 (ipykernel)",
   "language": "python",
   "name": "python3"
  },
  "language_info": {
   "codemirror_mode": {
    "name": "ipython",
    "version": 3
   },
   "file_extension": ".py",
   "mimetype": "text/x-python",
   "name": "python",
   "nbconvert_exporter": "python",
   "pygments_lexer": "ipython3",
   "version": "3.9.7"
  }
 },
 "nbformat": 4,
 "nbformat_minor": 5
}
