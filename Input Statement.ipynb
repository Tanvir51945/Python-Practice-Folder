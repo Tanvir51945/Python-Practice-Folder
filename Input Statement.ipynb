{
 "cells": [
  {
   "cell_type": "code",
   "execution_count": 1,
   "id": "49ab9149",
   "metadata": {},
   "outputs": [],
   "source": [
    "#\":\"--input syntex"
   ]
  },
  {
   "cell_type": "code",
   "execution_count": 8,
   "id": "4b76485d",
   "metadata": {},
   "outputs": [],
   "source": [
    "a= (\"what is your Name:\")"
   ]
  },
  {
   "cell_type": "code",
   "execution_count": 9,
   "id": "5e0287f4",
   "metadata": {},
   "outputs": [
    {
     "name": "stdout",
     "output_type": "stream",
     "text": [
      "what is your Name:\n"
     ]
    }
   ],
   "source": [
    "print(a)"
   ]
  },
  {
   "cell_type": "code",
   "execution_count": 10,
   "id": "ebb4f694",
   "metadata": {},
   "outputs": [
    {
     "data": {
      "text/plain": [
       "'Md Tanvirul Islam'"
      ]
     },
     "execution_count": 10,
     "metadata": {},
     "output_type": "execute_result"
    }
   ],
   "source": [
    "\"Md Tanvirul Islam\""
   ]
  },
  {
   "cell_type": "code",
   "execution_count": 11,
   "id": "5633a95e",
   "metadata": {},
   "outputs": [
    {
     "name": "stdout",
     "output_type": "stream",
     "text": [
      "What is your name:Md Tanvirul Islam\n"
     ]
    }
   ],
   "source": [
    "x=input(\"What is your name:\")"
   ]
  },
  {
   "cell_type": "code",
   "execution_count": 18,
   "id": "a6e10566",
   "metadata": {},
   "outputs": [
    {
     "name": "stdout",
     "output_type": "stream",
     "text": [
      "My Name is Md Tanvirul Islam\n"
     ]
    }
   ],
   "source": [
    "print (\"My Name is {}\".format(x))"
   ]
  },
  {
   "cell_type": "code",
   "execution_count": null,
   "id": "1f7aef6c",
   "metadata": {},
   "outputs": [],
   "source": []
  }
 ],
 "metadata": {
  "kernelspec": {
   "display_name": "Python 3 (ipykernel)",
   "language": "python",
   "name": "python3"
  },
  "language_info": {
   "codemirror_mode": {
    "name": "ipython",
    "version": 3
   },
   "file_extension": ".py",
   "mimetype": "text/x-python",
   "name": "python",
   "nbconvert_exporter": "python",
   "pygments_lexer": "ipython3",
   "version": "3.9.7"
  }
 },
 "nbformat": 4,
 "nbformat_minor": 5
}
