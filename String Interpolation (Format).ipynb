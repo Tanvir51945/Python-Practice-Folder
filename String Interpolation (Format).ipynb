{
 "cells": [
  {
   "cell_type": "code",
   "execution_count": 1,
   "id": "6a2985e7",
   "metadata": {},
   "outputs": [],
   "source": [
    "#.format()"
   ]
  },
  {
   "cell_type": "code",
   "execution_count": 2,
   "id": "ed432ab0",
   "metadata": {},
   "outputs": [],
   "source": [
    "c= \"cat\""
   ]
  },
  {
   "cell_type": "code",
   "execution_count": 11,
   "id": "93de6b14",
   "metadata": {},
   "outputs": [
    {
     "name": "stdout",
     "output_type": "stream",
     "text": [
      "This is a cat\n"
     ]
    }
   ],
   "source": [
    "print(\"This is a {}\".format(c))"
   ]
  },
  {
   "cell_type": "code",
   "execution_count": 14,
   "id": "971f1f8f",
   "metadata": {},
   "outputs": [
    {
     "name": "stdout",
     "output_type": "stream",
     "text": [
      "3 Rivers are Buriganga,Balu,Turag\n"
     ]
    }
   ],
   "source": [
    "print (\"3 Rivers are {0},{2},{1}\".format(\"Buriganga\", \"Turag\", \"Balu\"))"
   ]
  },
  {
   "cell_type": "code",
   "execution_count": 15,
   "id": "ac59b765",
   "metadata": {},
   "outputs": [],
   "source": [
    "#f\"\""
   ]
  },
  {
   "cell_type": "code",
   "execution_count": 16,
   "id": "fc8e2f46",
   "metadata": {},
   "outputs": [],
   "source": [
    "a=\"Buriganga\"\n",
    "b=\"Turag\"\n",
    "c=\"Balu\""
   ]
  },
  {
   "cell_type": "code",
   "execution_count": 19,
   "id": "e41a6fb0",
   "metadata": {},
   "outputs": [
    {
     "name": "stdout",
     "output_type": "stream",
     "text": [
      "3 rivers are Buriganga\tTurag\tBalu\n"
     ]
    }
   ],
   "source": [
    "print (f\"3 rivers are {a}\\t{b}\\t{c}\")"
   ]
  },
  {
   "cell_type": "code",
   "execution_count": null,
   "id": "dd6d365c",
   "metadata": {},
   "outputs": [],
   "source": []
  }
 ],
 "metadata": {
  "kernelspec": {
   "display_name": "Python 3 (ipykernel)",
   "language": "python",
   "name": "python3"
  },
  "language_info": {
   "codemirror_mode": {
    "name": "ipython",
    "version": 3
   },
   "file_extension": ".py",
   "mimetype": "text/x-python",
   "name": "python",
   "nbconvert_exporter": "python",
   "pygments_lexer": "ipython3",
   "version": "3.9.7"
  }
 },
 "nbformat": 4,
 "nbformat_minor": 5
}
